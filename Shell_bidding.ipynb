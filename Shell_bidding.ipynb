{
 "cells": [
  {
   "cell_type": "code",
   "execution_count": 66,
   "id": "b985d468",
   "metadata": {},
   "outputs": [],
   "source": [
    "import pandas as pd \n",
    "from sklearn.preprocessing import OneHotEncoder \n",
    "from sklearn.compose import ColumnTransformer \n",
    "from sklearn.model_selection import train_test_split \n",
    "from sklearn.ensemble import RandomForestClassifier \n",
    "from sklearn.metrics import confusion_matrix \n"
   ]
  },
  {
   "cell_type": "code",
   "execution_count": 67,
   "id": "eb069d91",
   "metadata": {},
   "outputs": [],
   "source": [
    "#reading the CSV file\n",
    "\n",
    "actual_data = pd.read_csv(\"Shill_bidding.csv\") \n",
    "\n",
    "target=actual_data['Class']\n",
    "\n",
    "\n"
   ]
  },
  {
   "cell_type": "code",
   "execution_count": 68,
   "id": "7dcdd70b",
   "metadata": {},
   "outputs": [
    {
     "name": "stdout",
     "output_type": "stream",
     "text": [
      "Index([             'Record_ID',             'Auction_ID',\n",
      "                    'Bidder_ID',        'Bidder_Tendency',\n",
      "                'Bidding_Ratio',  'Successive_Outbidding',\n",
      "                 'Last_Bidding',           'Auction_Bids',\n",
      "       'Starting_Price_Average',          'Early_Bidding',\n",
      "       ...\n",
      "                           1044,                     1045,\n",
      "                           1046,                     1047,\n",
      "                           1048,                     1049,\n",
      "                           1050,                     1051,\n",
      "                           1052,                     1053],\n",
      "      dtype='object', length=1066)\n"
     ]
    }
   ],
   "source": [
    "\n",
    "\n",
    "# Convert the categorical attribute (C1) to numerical columns using one-hot encoding encoder = OneHotEncoder()\n",
    "\n",
    "#perform one-hot encoding on 'Bidder_ID' column \n",
    "encoder_df = pd.DataFrame(encoder.fit_transform(actual_data.Bidder_ID.values.reshape(-1,1)).toarray())\n",
    "encoder_df=encoder_df.drop(0,axis=1)\n",
    "\n",
    "\n",
    "#merge one-hot encoded columns back with original DataFrame\n",
    "final_df = actual_data.join(encoder_df) \n",
    "print(final_df.columns)\n",
    "\n",
    "# remove unwanted columns for training\n",
    "final_df.drop(['Bidder_ID'],axis=1, inplace=True)\n",
    "final_df.drop(['Record_ID'],axis=1, inplace=True)\n",
    "\n",
    "final_df.drop(['Auction_Duration'],axis=1, inplace=True)\n",
    "\n",
    "\n",
    "# get the locations and remove the predectable value\n",
    "\n",
    "target1=final_df['Class']\n",
    "\n",
    "final_df.drop(['Class'],axis=1, inplace=True)\n",
    "\n",
    "\n"
   ]
  },
  {
   "cell_type": "code",
   "execution_count": 69,
   "id": "36e14b1a",
   "metadata": {},
   "outputs": [],
   "source": [
    "# splitting test, train data\n",
    "X_train, X_test, y_train, y_test = train_test_split(\n",
    "    final_df, target1, test_size=0.05, random_state=100)"
   ]
  },
  {
   "cell_type": "code",
   "execution_count": 70,
   "id": "a6ff0271",
   "metadata": {},
   "outputs": [
    {
     "data": {
      "text/plain": [
       "DecisionTreeClassifier(max_depth=3, min_samples_leaf=5, random_state=100)"
      ]
     },
     "execution_count": 70,
     "metadata": {},
     "output_type": "execute_result"
    }
   ],
   "source": [
    "#implemnting Decision tree\n",
    "from sklearn.tree import DecisionTreeClassifier\n",
    "clf_gini = DecisionTreeClassifier(criterion = \"gini\",\n",
    "            random_state = 100,max_depth=3, min_samples_leaf=5)\n",
    "  \n",
    "# Performing training \n",
    "clf_gini.fit(X_train, y_train)"
   ]
  },
  {
   "cell_type": "code",
   "execution_count": 71,
   "id": "fa29512f",
   "metadata": {},
   "outputs": [
    {
     "data": {
      "text/plain": [
       "array([[281,   6],\n",
       "       [  0,  30]], dtype=int64)"
      ]
     },
     "execution_count": 71,
     "metadata": {},
     "output_type": "execute_result"
    }
   ],
   "source": [
    "#confusion matrix for decisio tree\n",
    "confusion_matrix(y_test, y_pred)"
   ]
  },
  {
   "cell_type": "code",
   "execution_count": 72,
   "id": "acf2c896",
   "metadata": {},
   "outputs": [
    {
     "name": "stdout",
     "output_type": "stream",
     "text": [
      "Accuracy for gini :  98.10725552050474\n",
      "Report  gini:                precision    recall  f1-score   support\n",
      "\n",
      "           0       1.00      0.98      0.99       287\n",
      "           1       0.83      1.00      0.91        30\n",
      "\n",
      "    accuracy                           0.98       317\n",
      "   macro avg       0.92      0.99      0.95       317\n",
      "weighted avg       0.98      0.98      0.98       317\n",
      "\n"
     ]
    }
   ],
   "source": [
    "# finding accuarcy for decision tree\n",
    "from sklearn.metrics import accuracy_score\n",
    "from sklearn.metrics import classification_report\n",
    "y_pred = clf_entropy.predict(X_test)\n",
    "\n",
    "\n",
    "      \n",
    "print (\"Accuracy for gini : \",accuracy_score(y_test,y_pred)*100)\n",
    "      \n",
    "print(\"Report  gini: \",classification_report(y_test, y_pred))"
   ]
  },
  {
   "cell_type": "code",
   "execution_count": 73,
   "id": "c2e53849",
   "metadata": {},
   "outputs": [
    {
     "name": "stdout",
     "output_type": "stream",
     "text": [
      "Confusion Matrix:\n",
      "[[281   6]\n",
      " [  1  29]]\n"
     ]
    }
   ],
   "source": [
    "# Solution using Random Forest approch\n",
    "\n",
    "# Train the classification model using the training data \n",
    "classifier = RandomForestClassifier(random_state=42) \n",
    "classifier.fit(X_train, y_train) \n",
    "# Test the trained model on the testing data \n",
    "y_pred_reg = classifier.predict(X_test) \n",
    "# Generate a confusion matrix \n",
    "cm = confusion_matrix(y_test, y_pred_reg) \n",
    "print(\"Confusion Matrix:\") \n",
    "print(cm) "
   ]
  },
  {
   "cell_type": "code",
   "execution_count": 74,
   "id": "cd049e84",
   "metadata": {},
   "outputs": [
    {
     "name": "stdout",
     "output_type": "stream",
     "text": [
      "Accuracy for Random forest :  97.79179810725552\n",
      "Report  for Random Forest:                precision    recall  f1-score   support\n",
      "\n",
      "           0       1.00      0.98      0.99       287\n",
      "           1       0.83      0.97      0.89        30\n",
      "\n",
      "    accuracy                           0.98       317\n",
      "   macro avg       0.91      0.97      0.94       317\n",
      "weighted avg       0.98      0.98      0.98       317\n",
      "\n"
     ]
    }
   ],
   "source": [
    "#recording the accuracy values for Random forest\n",
    "print (\"Accuracy for Random forest : \",accuracy_score(y_test,y_pred_reg)*100)\n",
    "      \n",
    "print(\"Report  for Random Forest: \",classification_report(y_test, y_pred_reg))"
   ]
  },
  {
   "cell_type": "code",
   "execution_count": 75,
   "id": "de3e3ffb",
   "metadata": {},
   "outputs": [
    {
     "name": "stdout",
     "output_type": "stream",
     "text": [
      "using K nearest Neighbour:  0.917981072555205\n",
      "Report  for K nearest neighbour:                precision    recall  f1-score   support\n",
      "\n",
      "           0       0.92      0.99      0.96       287\n",
      "           1       0.75      0.20      0.32        30\n",
      "\n",
      "    accuracy                           0.92       317\n",
      "   macro avg       0.84      0.60      0.64       317\n",
      "weighted avg       0.91      0.92      0.90       317\n",
      "\n"
     ]
    }
   ],
   "source": [
    "# Solution for K nearest Neighbour\n",
    "from sklearn.neighbors import KNeighborsClassifier\n",
    "clf = KNeighborsClassifier(weights='distance', n_neighbors=4)\n",
    "clf.fit(X_train,y_train)\n",
    "predictions = clf.predict(X_test)\n",
    "print(\"using K nearest Neighbour: \",accuracy_score(y_test, predictions))\n",
    "print(\"Report  for K nearest neighbour: \",classification_report(y_test,predictions ))"
   ]
  },
  {
   "cell_type": "code",
   "execution_count": null,
   "id": "5c5026b1",
   "metadata": {},
   "outputs": [],
   "source": [
    "# initially taken 13 attributes \n",
    "# took 10 attributes useful and discarded the rest\n",
    "#trained on models on 9 Attribute \n",
    "#to Find the tenth attribute as fraud or genuine"
   ]
  },
  {
   "cell_type": "code",
   "execution_count": null,
   "id": "47a00007",
   "metadata": {},
   "outputs": [],
   "source": []
  }
 ],
 "metadata": {
  "kernelspec": {
   "display_name": "Python 3 (ipykernel)",
   "language": "python",
   "name": "python3"
  },
  "language_info": {
   "codemirror_mode": {
    "name": "ipython",
    "version": 3
   },
   "file_extension": ".py",
   "mimetype": "text/x-python",
   "name": "python",
   "nbconvert_exporter": "python",
   "pygments_lexer": "ipython3",
   "version": "3.9.7"
  }
 },
 "nbformat": 4,
 "nbformat_minor": 5
}
